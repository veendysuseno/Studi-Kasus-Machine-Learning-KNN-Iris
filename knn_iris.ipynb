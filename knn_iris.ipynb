{
 "cells": [
  {
   "cell_type": "markdown",
   "id": "bb19d2fb",
   "metadata": {},
   "source": [
    "# Penerapan Machine Learning dengan Pendekatan Supervised Studi Kasus Implementasi Klasifikasi 3 Jenis Bunga Iris (Bunga Pelangi) {iris tectorum} dengan Metode K-Nearst Neighbor (KNN)"
   ]
  },
  {
   "cell_type": "markdown",
   "id": "8850505c",
   "metadata": {},
   "source": [
    "## 1. Memanggil Library"
   ]
  },
  {
   "cell_type": "code",
   "execution_count": 1,
   "id": "1ea19dc4",
   "metadata": {},
   "outputs": [],
   "source": [
    "#Menanggil library pandas untuk manipulasi data, seperti: membuat tabel, mengubah dimensi data, mengecek data,dsb.\n",
    "import pandas as pd\n",
    "#Memanggil library matplotlib untuk grafik plot.\n",
    "import matplotlib.pyplot as plt\n",
    "#Memanggi library sklearn untuk import dataset\n",
    "from sklearn import datasets\n",
    "#Menaggil library sklearn untuk KKN Classifier\n",
    "from sklearn.neighbors import KNeighborsClassifier"
   ]
  },
  {
   "cell_type": "markdown",
   "id": "bc5df6df",
   "metadata": {},
   "source": [
    "## 2. Memanggil dataset dari library sklearn\n",
    "### Untuk memanggil Iris dataset, kemudian memasukkannya ke dalam variabel 'bunga'"
   ]
  },
  {
   "cell_type": "code",
   "execution_count": 2,
   "id": "bc26d0ea",
   "metadata": {},
   "outputs": [
    {
     "name": "stdout",
     "output_type": "stream",
     "text": [
      "<class 'sklearn.utils.Bunch'>\n"
     ]
    }
   ],
   "source": [
    "#Memanggil IRIS datset dari obyek sklearn\n",
    "#memasukkannya ke dalam variable bunga\n",
    "\n",
    "bunga = datasets.load_iris()\n",
    "\n",
    "#Menampilkan tipe obyek dari bunga\n",
    "print(type(bunga))"
   ]
  },
  {
   "cell_type": "markdown",
   "id": "e1deafbc",
   "metadata": {},
   "source": [
    "### -. Kita juga bisa menampilakn dictionay keys dari dataset bunga sebagai berikut: "
   ]
  },
  {
   "cell_type": "code",
   "execution_count": 4,
   "id": "459d71dc",
   "metadata": {},
   "outputs": [
    {
     "name": "stdout",
     "output_type": "stream",
     "text": [
      "dict_keys(['data', 'target', 'frame', 'target_names', 'DESCR', 'feature_names', 'filename'])\n"
     ]
    }
   ],
   "source": [
    "#Menampilkan dictionary keys dari data bunga \n",
    "print(bunga.keys())"
   ]
  },
  {
   "cell_type": "markdown",
   "id": "dabf13d0",
   "metadata": {},
   "source": [
    "### -. Perintah dibawah berikut ini digunakan untuk menampilkan tipe dari attribut yang ada:"
   ]
  },
  {
   "cell_type": "code",
   "execution_count": 5,
   "id": "a5519ea6",
   "metadata": {},
   "outputs": [
    {
     "name": "stdout",
     "output_type": "stream",
     "text": [
      "<class 'numpy.ndarray'> <class 'numpy.ndarray'>\n"
     ]
    }
   ],
   "source": [
    "#Menampilkan tipe obyek dari atribut yang ada\n",
    "print(type(bunga.data),type(bunga.target))"
   ]
  },
  {
   "cell_type": "markdown",
   "id": "6f7069e7",
   "metadata": {},
   "source": [
    "### -. Perintah dibawah berikut ini digunakan untuk menampilkan jumlah baris dan kolom  dari dataset Iris."
   ]
  },
  {
   "cell_type": "code",
   "execution_count": 6,
   "id": "8d0ae051",
   "metadata": {},
   "outputs": [
    {
     "name": "stdout",
     "output_type": "stream",
     "text": [
      "(150, 4)\n"
     ]
    }
   ],
   "source": [
    "#Menampilkan jumlah baris dan kolom dari dataset iris\n",
    "print(bunga.data.shape)"
   ]
  },
  {
   "cell_type": "markdown",
   "id": "ff1af2bf",
   "metadata": {},
   "source": [
    "### -. Perintah dibawah berikut ini digunakan untuk menampilkan target set dari data."
   ]
  },
  {
   "cell_type": "code",
   "execution_count": 7,
   "id": "cbc71c66",
   "metadata": {},
   "outputs": [
    {
     "name": "stdout",
     "output_type": "stream",
     "text": [
      "['setosa' 'versicolor' 'virginica']\n"
     ]
    }
   ],
   "source": [
    "#Menampilkan target set dari data\n",
    "print(bunga.target_names)"
   ]
  },
  {
   "cell_type": "markdown",
   "id": "017b3464",
   "metadata": {},
   "source": [
    "## 3. Konversi Dataset ke datam Tipe DataFrame"
   ]
  },
  {
   "cell_type": "code",
   "execution_count": 8,
   "id": "50f5d06a",
   "metadata": {},
   "outputs": [
    {
     "name": "stdout",
     "output_type": "stream",
     "text": [
      "   sepal length (cm)  sepal width (cm)  petal length (cm)  petal width (cm)\n",
      "0                5.1               3.5                1.4               0.2\n",
      "1                4.9               3.0                1.4               0.2\n",
      "2                4.7               3.2                1.3               0.2\n",
      "3                4.6               3.1                1.5               0.2\n",
      "4                5.0               3.6                1.4               0.2\n"
     ]
    }
   ],
   "source": [
    "#Memanggil training dataset\n",
    "X = bunga.data\n",
    "\n",
    "#Memanggil target set\n",
    "Y = bunga.target\n",
    "\n",
    "#Melakukan konversi tipe datasets' ke dalam tipe dataframe\n",
    "df = pd.DataFrame(X, columns=bunga.feature_names)\n",
    "\n",
    "#Mencetak 5 data pertama dari dataframe\n",
    "print(df.head())\n"
   ]
  },
  {
   "cell_type": "markdown",
   "id": "3ed04cc6",
   "metadata": {},
   "source": [
    "## 4. Memanggil KNN Classifier dari Sklearn dan kemudian melakukan fiting modeng dengan data training serta target"
   ]
  },
  {
   "cell_type": "code",
   "execution_count": 9,
   "id": "7821af2a",
   "metadata": {},
   "outputs": [
    {
     "data": {
      "text/plain": [
       "KNeighborsClassifier(metric='euclidean', n_neighbors=6)"
      ]
     },
     "execution_count": 9,
     "metadata": {},
     "output_type": "execute_result"
    }
   ],
   "source": [
    "#Memanggil KNN Classsifier\n",
    "knn = KNeighborsClassifier(n_neighbors=6,\n",
    "                           weights='uniform',\n",
    "                           algorithm='auto',\n",
    "                          metric='euclidean')\n",
    "\n",
    "#Fitting model dengan training data dan target\n",
    "X_train = bunga['data']\n",
    "y_train = bunga['target']\n",
    "knn.fit(X_train, y_train)"
   ]
  },
  {
   "cell_type": "markdown",
   "id": "891bf066",
   "metadata": {},
   "source": [
    "## 5. Melakukan Prediksi berdasarkan data yang diinputkan "
   ]
  },
  {
   "cell_type": "code",
   "execution_count": 10,
   "id": "9da3b730",
   "metadata": {},
   "outputs": [
    {
     "name": "stdout",
     "output_type": "stream",
     "text": [
      "Hasil Prediksi : Jenis bunga  [2]\n"
     ]
    }
   ],
   "source": [
    "# Data yang akan diprediksi\n",
    "Data = [[6.2, 1.5, 4.2, 2.6]]\n",
    "\n",
    "# Melakukan prediksi berdasarkan \n",
    "Y_pred = knn.predict(Data)\n",
    "\n",
    "# Mencetak hasil prediksi\n",
    "# Hasil 0  adalah Setosa\n",
    "# Hasil 1  adalah Versicolor\n",
    "# Hasil 2  adalah Virginica\n",
    "print(\"Hasil Prediksi : Jenis bunga \", Y_pred)\n",
    "      "
   ]
  },
  {
   "cell_type": "markdown",
   "id": "bfed3489",
   "metadata": {},
   "source": [
    "#### Contoh diatas menunjukkan prediksi dari data bunga dengan input sebagai berkut:\n",
    "#### -. Panjang sepal : 6.2 cm.\n",
    "#### -. Lebar sepal     : 1.5 cm.\n",
    "#### -. Panjang petal : 4.2 cm.\n",
    "#### -. Lebar petal     : 2.6 cm.\n",
    "\n",
    "### Hasil Perdiksi menunjukkan bahwa jenis bunga denga kondisi tersebut adalah [2] atau versicolor."
   ]
  },
  {
   "cell_type": "markdown",
   "id": "8e8aeff2",
   "metadata": {},
   "source": [
    "### -. Kita juga dapat/bisa memprediksi secara langsung beberapa buah bunga masuk ke dalam array atau list sebagai berikut."
   ]
  },
  {
   "cell_type": "code",
   "execution_count": 12,
   "id": "b57d9092",
   "metadata": {},
   "outputs": [
    {
     "name": "stdout",
     "output_type": "stream",
     "text": [
      "Hasil  Prediksi : Jenis Bunga  [2 2 1]\n"
     ]
    }
   ],
   "source": [
    "# Data yang akan diprediksi\n",
    "Data = [[6.2, 1.5, 4.2, 2.6],\n",
    "        [4.4, 1.2, 2.7, 7.5],\n",
    "        [6.4, 2.5, 4.7, 1.5]\n",
    "       ]\n",
    "\n",
    "Y_pred = knn.predict(Data)\n",
    "print(\"Hasil  Prediksi : Jenis Bunga \", Y_pred)\n",
    "\n",
    "# Mencetak hasil prediksi\n",
    "# Hasil 0  adalah Setosa\n",
    "# Hasil 1  adalah Versicolor\n",
    "# Hasil 2  adalah Virginica"
   ]
  },
  {
   "cell_type": "markdown",
   "id": "91a4c649",
   "metadata": {},
   "source": [
    "## 6. Visualisasi Data Klasifikasi Bunga Iris Menggunakan KNN "
   ]
  },
  {
   "cell_type": "code",
   "execution_count": 6,
   "id": "f63b6573",
   "metadata": {},
   "outputs": [
    {
     "data": {
      "image/png": "[encoded data removed]",
      "text/plain": [
       "<Figure size 432x288 with 1 Axes>"
      ]
     },
     "metadata": {
      "needs_background": "light"
     },
     "output_type": "display_data"
    }
   ],
   "source": [
    "# Memanggil Library \n",
    "import numpy as np\n",
    "import matplotlib.pyplot as plt\n",
    "from matplotlib.colors import ListedColormap\n",
    "from sklearn import neighbors, datasets\n",
    "\n",
    "# Memanggil dataset\n",
    "bunga = datasets.load_iris()\n",
    "\n",
    "# Slicing menggunakan datasset 2 dimensi\n",
    "x = bunga.data[:, :2]\n",
    "y = bunga.target\n",
    "\n",
    "# Mengatur warna\n",
    "cmap_light = ListedColormap(['#FFAAAA', '#AAFFAA', '#AAAAFF'])\n",
    "cmap_bold = ListedColormap(['#FF0000', '#00FF00', '#0000FF'])\n",
    "\n",
    "# Memanggil KNN dan fitting data\n",
    "knn = neighbors.KNeighborsClassifier(n_neighbors=6, weights='uniform')\n",
    "\n",
    "knn.fit(X,y)\n",
    "\n",
    "# Plot the decision boundary.\n",
    "x_min, x_max = x[:, 0].min() - 1, x[:, 0].max()+1\n",
    "y_min, y_max = x[:, 1].min() - 1, x[:, 1].max()+1\n",
    "xx, yy = np.meshgrid(np.arange(x_min, x_max, h),\n",
    "                    np.arange(y_min, y_max, h))\n",
    "\n",
    "z = knn.predict(np.c_[xx.ravel(),yy.ravel()])\n",
    "\n",
    "# Memasukkan hasil ke dalam plot color\n",
    "z = z.reshape(xx.shape)\n",
    "plt.figure()\n",
    "plt.pcolormesh(xx, yy, z, cmap=cmap_light, shading='auto')\n",
    "\n",
    "# Plot training points\n",
    "plt.scatter(X[:, 0], X[:, 1], c=y, cmap=cmap_bold, edgecolor='k', s=20)\n",
    "plt.xlim(xx.min(), xx.max())\n",
    "plt.ylim(yy.min(), yy.max())\n",
    "plt.title(\"Klasifikasi Bunga Iris\")\n",
    "\n",
    "# Menampilkan Plot\n",
    "plt.show()\n"
   ]
  },
  {
   "cell_type": "code",
   "execution_count": 9,
   "id": "9d4a2ab1",
   "metadata": {},
   "outputs": [
    {
     "data": {
      "image/png": "[encoded data removed]",
      "text/plain": [
       "<Figure size 432x288 with 1 Axes>"
      ]
     },
     "metadata": {
      "needs_background": "light"
     },
     "output_type": "display_data"
    }
   ],
   "source": [
    "# Memanggil Library \n",
    "import numpy as np\n",
    "import matplotlib.pyplot as plt\n",
    "from matplotlib.colors import ListedColormap\n",
    "from sklearn import neighbors, datasets\n",
    "\n",
    "# Memanggil dataset\n",
    "bunga = datasets.load_iris()\n",
    "\n",
    "# Slicing menggunakan dataset 2 dimensi\n",
    "X = bunga.data[:, :2]\n",
    "y = bunga.target\n",
    "\n",
    "# Mengatur warna\n",
    "cmap_light = ListedColormap(['#FFAAAA', '#AAFFAA', '#AAAAFF'])\n",
    "cmap_bold = ListedColormap(['#FF0000', '#00FF00', '#0000FF'])\n",
    "\n",
    "# Memanggil KNN dan fitting data\n",
    "knn = neighbors.KNeighborsClassifier(n_neighbors=6, weights='uniform')\n",
    "\n",
    "knn.fit(X, y)\n",
    "\n",
    "# Mengatur step size pada meshgrid\n",
    "h = 0.02  # Bisa diubah sesuai kebutuhan, ini menentukan resolusi grid\n",
    "\n",
    "# Plot the decision boundary.\n",
    "x_min, x_max = X[:, 0].min() - 1, X[:, 0].max() + 1\n",
    "y_min, y_max = X[:, 1].min() - 1, X[:, 1].max() + 1\n",
    "xx, yy = np.meshgrid(np.arange(x_min, x_max, h),\n",
    "                    np.arange(y_min, y_max, h))\n",
    "\n",
    "z = knn.predict(np.c_[xx.ravel(), yy.ravel()])\n",
    "\n",
    "# Memasukkan hasil ke dalam plot color\n",
    "z = z.reshape(xx.shape)\n",
    "plt.figure()\n",
    "plt.pcolormesh(xx, yy, z, cmap=cmap_light, shading='gouraud')\n",
    "\n",
    "# Plot training points\n",
    "plt.scatter(X[:, 0], X[:, 1], c=y, cmap=cmap_bold, edgecolor='k', s=20)\n",
    "plt.xlim(xx.min(), xx.max())\n",
    "plt.ylim(yy.min(), yy.max())\n",
    "plt.title(\"Klasifikasi Bunga Iris\")\n",
    "\n",
    "# Menampilkan Plot\n",
    "plt.show()\n"
   ]
  },
  {
   "cell_type": "markdown",
   "id": "9e1f8887",
   "metadata": {},
   "source": [
    "Mengatasi Peringatan:\n",
    "\n",
    "Untuk mengatasi peringatan ini, Anda bisa memperbaiki kode dengan menggunakan salah satu dari tiga opsi shading berikut ini:\n",
    "\n",
    "    shading='auto': Secara otomatis memilih shading yang tepat berdasarkan data.\n",
    "    shading='nearest': Menyesuaikan shading ke grid terdekat.\n",
    "    shading='gouraud': Menggunakan interpolasi Gouraud untuk shading yang lebih halus.\n",
    " \n",
    "Penjelasan Pilihan shading:\n",
    "\n",
    "    auto: Secara otomatis memilih shading terbaik berdasarkan dimensi dari X, Y, dan Z.\n",
    "    nearest: Shading diambil dari nilai terdekat dalam grid, yang biasanya lebih cepat dihitung tetapi tidak menghasilkan interpolasi halus.\n",
    "    gouraud: Interpolasi halus yang biasanya lebih lambat tetapi menghasilkan visualisasi yang lebih mulus.\n",
    "\n",
    "Dengan mengubah parameter shading menjadi auto, kode Anda akan lebih kompatibel dengan versi Matplotlib yang lebih baru dan menghindari kesalahan di masa mendatang."
   ]
  }
 ],
 "metadata": {
  "kernelspec": {
   "display_name": "Python 3",
   "language": "python",
   "name": "python3"
  },
  "language_info": {
   "codemirror_mode": {
    "name": "ipython",
    "version": 3
   },
   "file_extension": ".py",
   "mimetype": "text/x-python",
   "name": "python",
   "nbconvert_exporter": "python",
   "pygments_lexer": "ipython3",
   "version": "3.8.8"
  }
 },
 "nbformat": 4,
 "nbformat_minor": 5
}
